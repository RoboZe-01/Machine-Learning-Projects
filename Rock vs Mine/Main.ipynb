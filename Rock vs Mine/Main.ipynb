{
 "cells": [
  {
   "cell_type": "markdown",
   "metadata": {},
   "source": [
    "Our program is Predict  if the sonar in the submarine  crosses rock or mine\n",
    "\n",
    "by using sonar data . "
   ]
  }
 ],
 "metadata": {
  "language_info": {
   "name": "python"
  }
 },
 "nbformat": 4,
 "nbformat_minor": 2
}
